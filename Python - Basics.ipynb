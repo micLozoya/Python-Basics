{
 "cells": [
  {
   "cell_type": "markdown",
   "metadata": {},
   "source": [
    "# Tip\n",
    "If you want to make any changes to a Markdown cell, just double click it. Try it out in the next cell."
   ]
  },
  {
   "cell_type": "markdown",
   "metadata": {},
   "source": [
    "# Note that\n",
    "## with every \n",
    "### pound, it \n",
    "#### will make\n",
    "##### the subject\n",
    "###### line smaller\n",
    "But without it, it is treated as normal text. This is only the case if the cell is a 'Markdown' cell."
   ]
  },
  {
   "cell_type": "markdown",
   "metadata": {},
   "source": [
    "# Variables"
   ]
  },
  {
   "cell_type": "markdown",
   "metadata": {},
   "source": [
    "When creating a variable, does it need to be type assigned in python? For example, will the following line of code throw an error: x = 4\n",
    "    No! A variable isn't tied down to a type either; it could start as a string, but be reassigned as an int\n",
    "\n",
    "\n",
    "With the following lines of code:\n",
    "#### x = 4\n",
    "#### y = x\n",
    "#### y = y + 2\n",
    "\n",
    "What is the value of y?\n",
    "\n",
    "What is the value of x?\n",
    "\n",
    "With the following code:\n",
    "#### x = (4/2)\n",
    "What will the type for 'x' be?\n"
   ]
  },
  {
   "cell_type": "code",
   "execution_count": 2,
   "metadata": {},
   "outputs": [
    {
     "name": "stdout",
     "output_type": "stream",
     "text": [
      "4\n",
      "<class 'int'>\n",
      "4.0\n",
      "<class 'float'>\n",
      "4\n"
     ]
    }
   ],
   "source": [
    "x = 4\n",
    "print(x)\n",
    "print(type(x))\n",
    "\n",
    "x = float(x)\n",
    "print(x)\n",
    "print(type(x))\n",
    "\n",
    "x = int(x)\n",
    "print(x)"
   ]
  },
  {
   "cell_type": "code",
   "execution_count": 10,
   "metadata": {},
   "outputs": [
    {
     "name": "stdout",
     "output_type": "stream",
     "text": [
      "4.6\n",
      "<class 'float'>\n",
      "4\n",
      "<class 'int'>\n",
      "4.0\n",
      "<class 'float'>\n"
     ]
    }
   ],
   "source": [
    "x = 4.6\n",
    "print(x)\n",
    "print(type(x))\n",
    "\n",
    "x = int(x)\n",
    "print(x)\n",
    "print(type(x))\n",
    "\n",
    "x = float(x)\n",
    "print(x)\n",
    "print(type(x))"
   ]
  },
  {
   "cell_type": "code",
   "execution_count": 14,
   "metadata": {},
   "outputs": [
    {
     "name": "stdout",
     "output_type": "stream",
     "text": [
      "4\n",
      "<class 'int'>\n",
      "4\n",
      "<class 'str'>\n"
     ]
    }
   ],
   "source": [
    "x = 4\n",
    "print(x)\n",
    "print(type(x))\n",
    "\n",
    "x = str(x)\n",
    "print(x)\n",
    "print(type(x))\n"
   ]
  },
  {
   "cell_type": "code",
   "execution_count": 15,
   "metadata": {},
   "outputs": [
    {
     "name": "stdout",
     "output_type": "stream",
     "text": [
      "hello\n",
      "<class 'str'>\n"
     ]
    },
    {
     "ename": "ValueError",
     "evalue": "invalid literal for int() with base 10: 'hello'",
     "output_type": "error",
     "traceback": [
      "\u001b[0;31m---------------------------------------------------------------------------\u001b[0m",
      "\u001b[0;31mValueError\u001b[0m                                Traceback (most recent call last)",
      "\u001b[0;32m<ipython-input-15-16c9ef01b719>\u001b[0m in \u001b[0;36m<module>\u001b[0;34m\u001b[0m\n\u001b[1;32m      3\u001b[0m \u001b[0mprint\u001b[0m\u001b[0;34m(\u001b[0m\u001b[0mtype\u001b[0m\u001b[0;34m(\u001b[0m\u001b[0mx\u001b[0m\u001b[0;34m)\u001b[0m\u001b[0;34m)\u001b[0m\u001b[0;34m\u001b[0m\u001b[0;34m\u001b[0m\u001b[0m\n\u001b[1;32m      4\u001b[0m \u001b[0;34m\u001b[0m\u001b[0m\n\u001b[0;32m----> 5\u001b[0;31m \u001b[0mx\u001b[0m \u001b[0;34m=\u001b[0m \u001b[0mint\u001b[0m\u001b[0;34m(\u001b[0m\u001b[0mx\u001b[0m\u001b[0;34m)\u001b[0m\u001b[0;34m\u001b[0m\u001b[0;34m\u001b[0m\u001b[0m\n\u001b[0m\u001b[1;32m      6\u001b[0m \u001b[0mprint\u001b[0m\u001b[0;34m(\u001b[0m\u001b[0mx\u001b[0m\u001b[0;34m)\u001b[0m\u001b[0;34m\u001b[0m\u001b[0;34m\u001b[0m\u001b[0m\n\u001b[1;32m      7\u001b[0m \u001b[0mprint\u001b[0m\u001b[0;34m(\u001b[0m\u001b[0mtype\u001b[0m\u001b[0;34m(\u001b[0m\u001b[0mx\u001b[0m\u001b[0;34m)\u001b[0m\u001b[0;34m)\u001b[0m\u001b[0;34m\u001b[0m\u001b[0;34m\u001b[0m\u001b[0m\n",
      "\u001b[0;31mValueError\u001b[0m: invalid literal for int() with base 10: 'hello'"
     ]
    }
   ],
   "source": [
    "x = 'hello'\n",
    "print(x)\n",
    "print(type(x))\n",
    "\n",
    "x = int(x)\n",
    "print(x)\n",
    "print(type(x))\n"
   ]
  },
  {
   "cell_type": "code",
   "execution_count": 1,
   "metadata": {},
   "outputs": [
    {
     "data": {
      "text/plain": [
       "4"
      ]
     },
     "execution_count": 1,
     "metadata": {},
     "output_type": "execute_result"
    }
   ],
   "source": [
    "x = \"Hello\"\n",
    "y = \"World\"\n",
    "x = 4\n",
    "x # You can print a variable by just having the last line be that variable!"
   ]
  },
  {
   "cell_type": "markdown",
   "metadata": {},
   "source": [
    "# What's the difference?"
   ]
  },
  {
   "cell_type": "markdown",
   "metadata": {},
   "source": [
    "With the follwoing two equations: \n",
    "#### (4/2)\n",
    "#### (4%2)\n",
    "\n",
    "How would you verbally say each equation?\n",
    "\n",
    "    4 divided by 2\n",
    "    4 modulo 2\n",
    "\n",
    "What's the difference between (4/2) and (4%2)?\n",
    "    The first returns the quotient as a float\n",
    "    The second returns the remainder"
   ]
  },
  {
   "cell_type": "code",
   "execution_count": 17,
   "metadata": {
    "scrolled": true
   },
   "outputs": [
    {
     "name": "stdout",
     "output_type": "stream",
     "text": [
      "x =   3.5\n",
      "This is the type of x:  <class 'float'>\n",
      "\n",
      "y =   1\n",
      "This is the type of y:  <class 'int'>\n"
     ]
    }
   ],
   "source": [
    "#type() allows you to see the type of a variable OR equation\n",
    "x = 7/2\n",
    "y = 7%2\n",
    "print(\"x =  \", x) \n",
    "#notice that I only had to separate the printed string and variable with a comma\n",
    "# if the comma were not there, it would throw an error\n",
    "print(\"This is the type of x: \", type(x))\n",
    "print() # This just calls print, but nothing is printed; it's the equivalent of adding in your print\n",
    "print(\"y =  \", y)\n",
    "print(\"This is the type of y: \", type(y))"
   ]
  },
  {
   "cell_type": "markdown",
   "metadata": {},
   "source": [
    "# Slice"
   ]
  },
  {
   "cell_type": "markdown",
   "metadata": {},
   "source": [
    "Python does have type 'string', but remember that a string is a list of characters"
   ]
  },
  {
   "cell_type": "markdown",
   "metadata": {},
   "source": [
    "What does it mean to take a slice of a string?\n",
    "    This means that you are taking portions of a string. The same thing can be done to arrays!\n",
    "\n",
    "Say we have a string in 'x'. To perform a slice, you have to follow the format:\n",
    "    x[start:end:step]\n",
    "\n",
    "When taking a slice, you can leave the last colon out if you do not want to do a step:\n",
    "    x[start:end]\n",
    "\n",
    "How would I take every other letter in a string?\n",
    "    Make the step 2\n",
    "\n",
    "What would happen if the step were negative?"
   ]
  },
  {
   "cell_type": "code",
   "execution_count": null,
   "metadata": {},
   "outputs": [],
   "source": [
    "x = \"Hello world\"\n",
    "y = [1,2,3]\n",
    "\n",
    "print(\"This is the type of x: \", type(x))\n",
    "print(\"This is the type of y: \", type(y))\n",
    "\n",
    "#len() is a function in python that will return the length of a list\n",
    "print(len(x), \"is the length of x\")\n",
    "print(\"Original string of x:\", x)\n",
    "print(\"Slice of x: \", x[:2:])\n",
    "print()\n",
    "print(\"Accessing the first element of y:\", y[0])\n",
    "print(\"The length of y is \",len(y))\n",
    "print(\"Slice of y:\",y[0:4:2]) \n",
    "#notice that I was able to perform the slice on y even though it only has 3 elements"
   ]
  },
  {
   "cell_type": "markdown",
   "metadata": {},
   "source": [
    "# Defining a function"
   ]
  },
  {
   "cell_type": "code",
   "execution_count": 24,
   "metadata": {
    "scrolled": true
   },
   "outputs": [
    {
     "name": "stdout",
     "output_type": "stream",
     "text": [
      "1 No match 7\n",
      "1 No match 6\n",
      "1 No match 5\n",
      "1 No match 4\n",
      "1 No match 3\n",
      "1 No match 2\n",
      "\tFound a match!\n",
      "2 No match 7\n",
      "2 No match 6\n",
      "2 No match 5\n",
      "2 No match 4\n",
      "2 No match 3\n",
      "\tFound a match!\n",
      "2 No match 1\n",
      "3 No match 7\n",
      "3 No match 6\n",
      "3 No match 5\n",
      "3 No match 4\n",
      "\tFound a match!\n",
      "3 No match 2\n",
      "3 No match 1\n",
      "4 No match 7\n",
      "4 No match 6\n",
      "4 No match 5\n",
      "\tFound a match!\n",
      "4 No match 3\n",
      "4 No match 2\n",
      "4 No match 1\n",
      "5 No match 7\n",
      "5 No match 6\n",
      "\tFound a match!\n",
      "5 No match 4\n",
      "5 No match 3\n",
      "5 No match 2\n",
      "5 No match 1\n",
      "6 No match 7\n",
      "\tFound a match!\n",
      "6 No match 5\n",
      "6 No match 4\n",
      "6 No match 3\n",
      "6 No match 2\n",
      "6 No match 1\n",
      "\tFound a match!\n",
      "7 No match 6\n",
      "7 No match 5\n",
      "7 No match 4\n",
      "7 No match 3\n",
      "7 No match 2\n",
      "7 No match 1\n"
     ]
    }
   ],
   "source": [
    "x = [1,2,3,4,5,6,7]\n",
    "y = [1,2,3,4,5,6,7]\n",
    "y = y[::-1]\n",
    "\n",
    "#functions are defined by using the following format--> def func(param, param):\n",
    "def pNoMatch(x,y):\n",
    "    print(x, \"No match\", y)\n",
    "\n",
    "def pMatch(): # A function doesn't require parameters\n",
    "    print(\"\\tFound a match!\")\n",
    "\n",
    "for i in x: # this is iterating through every element of x\n",
    "    for j in y: # this is iterating through every element of y\n",
    "        if (i != j): \n",
    "            pNoMatch(i,j) # calls pNoMatch and passes variables i and j to function pNoMatch\n",
    "        else:\n",
    "            pMatch() #calls pMatch"
   ]
  },
  {
   "cell_type": "code",
   "execution_count": 27,
   "metadata": {},
   "outputs": [
    {
     "name": "stdout",
     "output_type": "stream",
     "text": [
      "0\n",
      "1\n",
      "2\n",
      "3\n",
      "I found 3!\n",
      "4\n",
      "5\n"
     ]
    }
   ],
   "source": [
    "for i in range(6):\n",
    "    print(i)\n",
    "    if i == 3:\n",
    "        print(\"I found 3!\")\n",
    "    else:\n",
    "        continue"
   ]
  },
  {
   "cell_type": "code",
   "execution_count": 26,
   "metadata": {},
   "outputs": [
    {
     "name": "stdout",
     "output_type": "stream",
     "text": [
      "0\n",
      "1\n",
      "2\n",
      "3\n",
      "4\n",
      "5\n"
     ]
    }
   ],
   "source": [
    "for i in range(0,6):\n",
    "    print(i)"
   ]
  },
  {
   "cell_type": "code",
   "execution_count": 1,
   "metadata": {},
   "outputs": [
    {
     "name": "stdout",
     "output_type": "stream",
     "text": [
      "[1, 2, 3]\n",
      "<class 'list'>\n",
      "(1, 'abc', 2.4)\n",
      "<class 'tuple'>\n"
     ]
    }
   ],
   "source": [
    "x = [1,2,3]\n",
    "print(x)\n",
    "print(type(x))\n",
    "\n",
    "y = (1, 'abc', 2.4)\n",
    "print(y)\n",
    "print(type(y))"
   ]
  },
  {
   "cell_type": "code",
   "execution_count": 29,
   "metadata": {},
   "outputs": [
    {
     "name": "stdout",
     "output_type": "stream",
     "text": [
      "1\n",
      "1\n"
     ]
    }
   ],
   "source": [
    "x = [1,2,3]\n",
    "print(x[0])\n",
    "\n",
    "y = (1, 'abc', 2.4)\n",
    "print(y[0])"
   ]
  },
  {
   "cell_type": "code",
   "execution_count": 30,
   "metadata": {},
   "outputs": [
    {
     "name": "stdout",
     "output_type": "stream",
     "text": [
      "[43, 2, 3]\n"
     ]
    },
    {
     "ename": "TypeError",
     "evalue": "'tuple' object does not support item assignment",
     "output_type": "error",
     "traceback": [
      "\u001b[0;31m---------------------------------------------------------------------------\u001b[0m",
      "\u001b[0;31mTypeError\u001b[0m                                 Traceback (most recent call last)",
      "\u001b[0;32m<ipython-input-30-1c5d9d5dc63e>\u001b[0m in \u001b[0;36m<module>\u001b[0;34m\u001b[0m\n\u001b[1;32m      4\u001b[0m \u001b[0;34m\u001b[0m\u001b[0m\n\u001b[1;32m      5\u001b[0m \u001b[0my\u001b[0m \u001b[0;34m=\u001b[0m \u001b[0;34m(\u001b[0m\u001b[0;36m1\u001b[0m\u001b[0;34m,\u001b[0m \u001b[0;34m'abc'\u001b[0m\u001b[0;34m,\u001b[0m \u001b[0;36m2.4\u001b[0m\u001b[0;34m)\u001b[0m\u001b[0;34m\u001b[0m\u001b[0;34m\u001b[0m\u001b[0m\n\u001b[0;32m----> 6\u001b[0;31m \u001b[0my\u001b[0m\u001b[0;34m[\u001b[0m\u001b[0;36m0\u001b[0m\u001b[0;34m]\u001b[0m \u001b[0;34m=\u001b[0m \u001b[0;36m43\u001b[0m\u001b[0;34m\u001b[0m\u001b[0;34m\u001b[0m\u001b[0m\n\u001b[0m\u001b[1;32m      7\u001b[0m \u001b[0mprint\u001b[0m\u001b[0;34m(\u001b[0m\u001b[0my\u001b[0m\u001b[0;34m)\u001b[0m\u001b[0;34m\u001b[0m\u001b[0;34m\u001b[0m\u001b[0m\n",
      "\u001b[0;31mTypeError\u001b[0m: 'tuple' object does not support item assignment"
     ]
    }
   ],
   "source": [
    "x = [1,2,3]\n",
    "x[0] = 43\n",
    "print(x)\n",
    "\n",
    "y = (1, 'abc', 2.4)\n",
    "y[0] = 43\n",
    "print(y)"
   ]
  },
  {
   "cell_type": "code",
   "execution_count": null,
   "metadata": {},
   "outputs": [],
   "source": []
  }
 ],
 "metadata": {
  "kernelspec": {
   "display_name": "Python 3",
   "language": "python",
   "name": "python3"
  },
  "language_info": {
   "codemirror_mode": {
    "name": "ipython",
    "version": 3
   },
   "file_extension": ".py",
   "mimetype": "text/x-python",
   "name": "python",
   "nbconvert_exporter": "python",
   "pygments_lexer": "ipython3",
   "version": "3.8.3"
  }
 },
 "nbformat": 4,
 "nbformat_minor": 4
}
