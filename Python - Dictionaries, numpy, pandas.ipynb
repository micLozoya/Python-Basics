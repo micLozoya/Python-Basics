{
 "cells": [
  {
   "cell_type": "markdown",
   "metadata": {},
   "source": [
    "# The following will cover how to:\n",
    "- Create While loops\n",
    "- Create and use Dictionaries\n",
    "- Import and use numpy/pandas\n",
    "- Create Pandas DataFrames"
   ]
  },
  {
   "cell_type": "markdown",
   "metadata": {},
   "source": [
    "# 1. While Loops"
   ]
  },
  {
   "cell_type": "code",
   "execution_count": 4,
   "metadata": {},
   "outputs": [
    {
     "name": "stdout",
     "output_type": "stream",
     "text": [
      "Please enter an integer: 4.5\n",
      "You have provided '4.5'\n",
      "<class 'str'>\n",
      "\n",
      "Sorry, but that was not an integer.  Try again: 4\n",
      "The integer you input was  4\n"
     ]
    }
   ],
   "source": [
    "# receiving user input is as easy as writing 'input', because that's all you need!\n",
    "userIN = input(\"Please enter an integer: \")\n",
    "\n",
    "print(\"You have provided '%s'\" %userIN)\n",
    "print(type(userIN)) #Notice that whatever they input, it will be a string\n",
    "print()\n",
    "    \n",
    "while(True):\n",
    "    try:\n",
    "        userIN = int(userIN)\n",
    "        \n",
    "    except ValueError:\n",
    "        userIN = input (\"Sorry, but that was not an integer.  Try again: \")\n",
    "        \n",
    "    else:\n",
    "        print (\"The integer you input was \", userIN)\n",
    "        break"
   ]
  },
  {
   "cell_type": "markdown",
   "metadata": {},
   "source": [
    "# 2. Dictionaries "
   ]
  },
  {
   "cell_type": "code",
   "execution_count": 34,
   "metadata": {},
   "outputs": [
    {
     "name": "stdout",
     "output_type": "stream",
     "text": [
      "dictionary1 is:  {'Hello': 2, 3: 'Hi', 'Name': 1} \n",
      "\n",
      "dictionary1 keys:  dict_keys(['Hello', 3, 'Name'])\n",
      "dictionary1 values:  dict_values([2, 'Hi', 1]) \n",
      "\n",
      "{'b', 'a', 'd', 'c'} \n",
      "\n"
     ]
    }
   ],
   "source": [
    "#There are 2 easy ways you can make a dictionary\n",
    "dictionary1 = dict()\n",
    "dictionary2 = {} \n",
    "#both lines of code create an empty dictionary, but you can pre-fill it with info\n",
    "dictionary1 = {\"Hello\":2, 3:\"Hi\"} #notice that the format doesn't have to be object followed by a #\n",
    "\n",
    "#add to a dicitonary\n",
    "dictionary1['Name'] = 1\n",
    "# With this format, it must follow dictionary[key] = value\n",
    "\n",
    "print(\"dictionary1 is: \", dictionary1, \"\\n\")\n",
    "#Dictionaries are read as key:value pairs.\n",
    "\n",
    "print(\"dictionary1 keys: \", dictionary1.keys())\n",
    "print(\"dictionary1 values: \",dictionary1.values(), \"\\n\")\n",
    "\n",
    "# Stay away from creating a dictionary like this!\n",
    "dictionary3 = {\"a\", \"b\", \"c\", \"d\"} \n",
    "# you could create a dictionary like this, however if you try to print the keys/values it will not work\n",
    "print(dictionary3, \"\\n\")\n",
    "\n"
   ]
  },
  {
   "cell_type": "code",
   "execution_count": 35,
   "metadata": {},
   "outputs": [
    {
     "name": "stdout",
     "output_type": "stream",
     "text": [
      "I found a key that is 3! Printing its value is:  Hi\n",
      "\n",
      "I found a dictionary value 1, its key is:  Hello\n"
     ]
    }
   ],
   "source": [
    "#You can also loop through dictionaries and look for keys/values\n",
    "for key in dictionary1.keys():\n",
    "    if key == 3:\n",
    "        print(\"I found a key that is 3! Printing its value is: \", dictionary1[key])\n",
    "        print()\n",
    "# Because Dictionaries follow a key:value pairing, you cannot easily do a value --> key search\n",
    "# instead, you would need to give a pointer for both key and value in a dictionary\n",
    "for key,val in dictionary1.items(): \n",
    "    #.items() is necessary so that it unpacks both key:value rather than just one item\n",
    "    if val == 2:\n",
    "        print(\"I found a dictionary value 1, its key is: \",key)"
   ]
  },
  {
   "cell_type": "markdown",
   "metadata": {},
   "source": [
    "# 3. numpy, pandas and matplotlib"
   ]
  },
  {
   "cell_type": "code",
   "execution_count": 8,
   "metadata": {},
   "outputs": [
    {
     "name": "stdout",
     "output_type": "stream",
     "text": [
      "shape of the dataFrame 'Measles' is:  (41, 13)\n"
     ]
    },
    {
     "data": {
      "text/html": [
       "<div>\n",
       "<style scoped>\n",
       "    .dataframe tbody tr th:only-of-type {\n",
       "        vertical-align: middle;\n",
       "    }\n",
       "\n",
       "    .dataframe tbody tr th {\n",
       "        vertical-align: top;\n",
       "    }\n",
       "\n",
       "    .dataframe thead th {\n",
       "        text-align: right;\n",
       "    }\n",
       "</style>\n",
       "<table border=\"1\" class=\"dataframe\">\n",
       "  <thead>\n",
       "    <tr style=\"text-align: right;\">\n",
       "      <th></th>\n",
       "      <th>0</th>\n",
       "      <th>1</th>\n",
       "      <th>2</th>\n",
       "      <th>3</th>\n",
       "      <th>4</th>\n",
       "      <th>5</th>\n",
       "      <th>6</th>\n",
       "      <th>7</th>\n",
       "      <th>8</th>\n",
       "      <th>9</th>\n",
       "      <th>10</th>\n",
       "      <th>11</th>\n",
       "      <th>12</th>\n",
       "    </tr>\n",
       "  </thead>\n",
       "  <tbody>\n",
       "    <tr>\n",
       "      <th>0</th>\n",
       "      <td>1931</td>\n",
       "      <td>750</td>\n",
       "      <td>2010</td>\n",
       "      <td>4858</td>\n",
       "      <td>6172</td>\n",
       "      <td>7095</td>\n",
       "      <td>4238</td>\n",
       "      <td>907</td>\n",
       "      <td>165</td>\n",
       "      <td>43</td>\n",
       "      <td>54</td>\n",
       "      <td>93</td>\n",
       "      <td>134</td>\n",
       "    </tr>\n",
       "    <tr>\n",
       "      <th>1</th>\n",
       "      <td>1932</td>\n",
       "      <td>146</td>\n",
       "      <td>270</td>\n",
       "      <td>621</td>\n",
       "      <td>1096</td>\n",
       "      <td>2271</td>\n",
       "      <td>2537</td>\n",
       "      <td>1081</td>\n",
       "      <td>288</td>\n",
       "      <td>118</td>\n",
       "      <td>149</td>\n",
       "      <td>594</td>\n",
       "      <td>1183</td>\n",
       "    </tr>\n",
       "    <tr>\n",
       "      <th>2</th>\n",
       "      <td>1933</td>\n",
       "      <td>1960</td>\n",
       "      <td>4699</td>\n",
       "      <td>9635</td>\n",
       "      <td>9573</td>\n",
       "      <td>6605</td>\n",
       "      <td>2697</td>\n",
       "      <td>601</td>\n",
       "      <td>139</td>\n",
       "      <td>50</td>\n",
       "      <td>55</td>\n",
       "      <td>71</td>\n",
       "      <td>131</td>\n",
       "    </tr>\n",
       "    <tr>\n",
       "      <th>3</th>\n",
       "      <td>1934</td>\n",
       "      <td>133</td>\n",
       "      <td>168</td>\n",
       "      <td>431</td>\n",
       "      <td>652</td>\n",
       "      <td>1414</td>\n",
       "      <td>1317</td>\n",
       "      <td>422</td>\n",
       "      <td>95</td>\n",
       "      <td>47</td>\n",
       "      <td>45</td>\n",
       "      <td>86</td>\n",
       "      <td>205</td>\n",
       "    </tr>\n",
       "    <tr>\n",
       "      <th>4</th>\n",
       "      <td>1935</td>\n",
       "      <td>508</td>\n",
       "      <td>1576</td>\n",
       "      <td>4357</td>\n",
       "      <td>6630</td>\n",
       "      <td>6813</td>\n",
       "      <td>5182</td>\n",
       "      <td>1975</td>\n",
       "      <td>358</td>\n",
       "      <td>67</td>\n",
       "      <td>136</td>\n",
       "      <td>333</td>\n",
       "      <td>555</td>\n",
       "    </tr>\n",
       "  </tbody>\n",
       "</table>\n",
       "</div>"
      ],
      "text/plain": [
       "     0     1     2     3     4     5     6     7    8    9    10   11    12\n",
       "0  1931   750  2010  4858  6172  7095  4238   907  165   43   54   93   134\n",
       "1  1932   146   270   621  1096  2271  2537  1081  288  118  149  594  1183\n",
       "2  1933  1960  4699  9635  9573  6605  2697   601  139   50   55   71   131\n",
       "3  1934   133   168   431   652  1414  1317   422   95   47   45   86   205\n",
       "4  1935   508  1576  4357  6630  6813  5182  1975  358   67  136  333   555"
      ]
     },
     "execution_count": 8,
     "metadata": {},
     "output_type": "execute_result"
    }
   ],
   "source": [
    "# To import an item, just state 'import' followed by what to import\n",
    "import numpy as np #you can even shorten the import to something less cumbersome\n",
    "import pandas as pd\n",
    "import matplotlib.pyplot as plt # maybe you just need specific functionalities of an import\n",
    "import matplotlib.axes as axes\n",
    "\n",
    "#.csv means Comma Separated Values ; .tsv means Tab Separated Values\n",
    "df_measles = pd.DataFrame(pd.read_csv('Measles.csv' ,delimiter =',', header=None))\n",
    "mumps = pd.read_csv('Mumps.csv',header=None).values\n",
    "chickenPox = pd.read_csv('chickenPox.csv',header=None).values\n",
    "\n",
    "print(\"shape of the dataFrame 'Measles' is: \", df_measles.shape)\n",
    "\n",
    "#print(df_measles)\n",
    "df_measles.head()"
   ]
  },
  {
   "cell_type": "code",
   "execution_count": 46,
   "metadata": {},
   "outputs": [
    {
     "data": {
      "text/plain": [
       "[<matplotlib.lines.Line2D at 0x7fde2eaf5460>]"
      ]
     },
     "execution_count": 46,
     "metadata": {},
     "output_type": "execute_result"
    },
    {
     "data": {
      "image/png": "[encoded data removed]",
      "text/plain": [
       "<Figure size 432x288 with 1 Axes>"
      ]
     },
     "metadata": {
      "needs_background": "light"
     },
     "output_type": "display_data"
    }
   ],
   "source": [
    "plt.figure()\n",
    "plt.title('Fig 1: NYC measles cases')\n",
    "\n",
    "#Grab all of the first column of Measles data (years)\n",
    "years = measles[:,:1]\n",
    "\n",
    "#take the sum of every month for every year\n",
    "num_cases = np.sum(measles,axis=1).tolist()\n",
    "\n",
    "#label x and y axis\n",
    "plt.ylabel(\"Numbers of cases\")\n",
    "plt.xlabel(\"Year\")\n",
    "\n",
    "#plot the data\n",
    "plt.plot(years, num_cases, 'g*-')"
   ]
  },
  {
   "cell_type": "code",
   "execution_count": 47,
   "metadata": {},
   "outputs": [
    {
     "data": {
      "text/plain": [
       "<matplotlib.legend.Legend at 0x7fde2ebbf040>"
      ]
     },
     "execution_count": 47,
     "metadata": {},
     "output_type": "execute_result"
    },
    {
     "data": {
      "image/png": "[encoded data removed]",
      "text/plain": [
       "<Figure size 432x288 with 1 Axes>"
      ]
     },
     "metadata": {
      "needs_background": "light"
     },
     "output_type": "display_data"
    }
   ],
   "source": [
    "plt.figure()\n",
    "plt.title('Fig 2: Measles and mumps cases in NYC')\n",
    "\n",
    "#Grab all of the first column of Measles data (years)\n",
    "measle_years = measles[:,:1]\n",
    "\n",
    "#take the sum of every month for every year\n",
    "measle_cases = np.sum(measles,axis=1).tolist()\n",
    "\n",
    "#Grab all of the first column of Mumps data (years)\n",
    "mumps_years = mumps[:,:1]\n",
    "#take the sum of every month for every year\n",
    "mumps_cases = np.sum(mumps,axis=1).tolist()\n",
    "\n",
    "#label x and y axis\n",
    "plt.ylabel(\"Numbers of cases\")\n",
    "plt.xlabel(\"Year\") \n",
    "\n",
    "#plot the data simultaneuously\n",
    "plt.semilogy(measle_years, measle_cases, 'bx-', mumps_years,  mumps_cases, 'go:') \n",
    "#Create a legend\n",
    "plt.legend(['Measels', 'Mumps'])"
   ]
  },
  {
   "cell_type": "code",
   "execution_count": null,
   "metadata": {},
   "outputs": [],
   "source": []
  }
 ],
 "metadata": {
  "kernelspec": {
   "display_name": "Python 3",
   "language": "python",
   "name": "python3"
  },
  "language_info": {
   "codemirror_mode": {
    "name": "ipython",
    "version": 3
   },
   "file_extension": ".py",
   "mimetype": "text/x-python",
   "name": "python",
   "nbconvert_exporter": "python",
   "pygments_lexer": "ipython3",
   "version": "3.8.3"
  }
 },
 "nbformat": 4,
 "nbformat_minor": 4
}
